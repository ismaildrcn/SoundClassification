{
 "cells": [
  {
   "cell_type": "code",
   "execution_count": null,
   "id": "c57aafa4",
   "metadata": {},
   "outputs": [],
   "source": [
    "import cv2\n",
    "import matplotlib.pyplot as plt\n",
    "import os\n",
    "import glob\n",
    "import librosa\n",
    "import librosa.display\n",
    "import numpy as np"
   ]
  },
  {
   "cell_type": "code",
   "execution_count": null,
   "id": "249ea722",
   "metadata": {},
   "outputs": [],
   "source": [
    "def SoundSpectrogram(files, folderName, soundName):\n",
    "    savePath = \"C:/Users/Ismail-Durcan/PycharmProjects/urbanSound8K/urbanSoundDataset/images/fold\" + str(folderName) + \"/\" + soundName.split(\".\")[0]\n",
    "    savePath = savePath.replace(\"/\",\"\\\\\")\n",
    "    audio, sr = librosa.load(files)\n",
    "    spect = librosa.feature.melspectrogram(y=audio, sr=sr)\n",
    "    fig, ax  = plt.subplots()\n",
    "    S_db = librosa.power_to_db(spect, ref=np.max)\n",
    "    img = librosa.display.specshow(S_db, ax=ax)\n",
    "\n",
    "    fig.savefig(\"{}.png\".format(savePath))"
   ]
  },
  {
   "cell_type": "code",
   "execution_count": null,
   "id": "09dbb920",
   "metadata": {},
   "outputs": [],
   "source": [
    "soundPathList = []\n",
    "mainPath = \"C:/Users/Ismail-Durcan/PycharmProjects/urbanSound8K/urbanSoundDataset/fold\"\n",
    "for folder in range(1,11):\n",
    "    folderPath = mainPath + str(folder) + \"/\"\n",
    "    sounds = os.listdir(folderPath)\n",
    "    for sound in sounds:\n",
    "        soundPath = folderPath + str(sound)\n",
    "        soundPath = soundPath.replace(\"/\", \"\\\\\")\n",
    "        SoundSpectrogram(soundPath, folder, sound)"
   ]
  }
 ],
 "metadata": {
  "kernelspec": {
   "display_name": "Python 3 (ipykernel)",
   "language": "python",
   "name": "python3"
  },
  "language_info": {
   "codemirror_mode": {
    "name": "ipython",
    "version": 3
   },
   "file_extension": ".py",
   "mimetype": "text/x-python",
   "name": "python",
   "nbconvert_exporter": "python",
   "pygments_lexer": "ipython3",
   "version": "3.9.15"
  }
 },
 "nbformat": 4,
 "nbformat_minor": 5
}
