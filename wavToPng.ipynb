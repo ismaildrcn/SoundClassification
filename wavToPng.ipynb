{
 "cells": [
  {
   "cell_type": "markdown",
   "id": "f7e3635c",
   "metadata": {},
   "source": [
    "# Import Library"
   ]
  },
  {
   "cell_type": "code",
   "execution_count": 1,
   "id": "c57aafa4",
   "metadata": {},
   "outputs": [],
   "source": [
    "import cv2\n",
    "import matplotlib.pyplot as plt\n",
    "import os\n",
    "import librosa\n",
    "import librosa.display"
   ]
  },
  {
   "cell_type": "markdown",
   "id": "d93ccb54",
   "metadata": {},
   "source": [
    "# Save Spectrogram"
   ]
  },
  {
   "cell_type": "code",
   "execution_count": null,
   "id": "249ea722",
   "metadata": {},
   "outputs": [],
   "source": [
    "def SoundSpectrogram(files, folderName, soundName):\n",
    "    savePath = \"C:/Users/Ismail-Durcan/PycharmProjects/urbanSound8K/urbanSoundDataset/images/fold\" + str(folderName) + \"/\" + soundName.split(\".\")[0]\n",
    "    savePath = savePath.replace(\"/\",\"\\\\\")\n",
    "    audio, sr = librosa.load(files)\n",
    "    spect = librosa.feature.melspectrogram(y=audio, sr=sr)\n",
    "    fig, ax  = plt.subplots()\n",
    "    S_db = librosa.power_to_db(spect, ref=np.max)\n",
    "    #img = librosa.display.specshow(S_db, ax=ax)\n",
    "\n",
    "    fig.savefig(\"{}.png\".format(savePath))"
   ]
  },
  {
   "cell_type": "code",
   "execution_count": null,
   "id": "09dbb920",
   "metadata": {},
   "outputs": [],
   "source": [
    "mainPath = \"C:/Users/Ismail-Durcan/PycharmProjects/urbanSound8K/urbanSoundDataset/fold\"\n",
    "for folder in range(1,11):\n",
    "    folderPath = mainPath + str(folder) + \"/\"\n",
    "    sounds = os.listdir(folderPath)\n",
    "    for sound in sounds:\n",
    "        soundPath = folderPath + str(sound)\n",
    "        soundPath = soundPath.replace(\"/\", \"\\\\\")\n",
    "        SoundSpectrogram(soundPath, folder, sound)"
   ]
  },
  {
   "cell_type": "markdown",
   "id": "95d0f47e",
   "metadata": {},
   "source": [
    "# Convert to Grayscale"
   ]
  },
  {
   "cell_type": "code",
   "execution_count": 12,
   "id": "d7c4eea1",
   "metadata": {},
   "outputs": [],
   "source": [
    "def SpectrogramGrayScale(file, soundName):\n",
    "    img = cv2.imread(file, 0)\n",
    "    cropWhitePadding = img[58:427, 80:576]\n",
    "    cv2.imwrite(file, cropWhitePadding)"
   ]
  },
  {
   "cell_type": "code",
   "execution_count": 13,
   "id": "4e3ff52e",
   "metadata": {},
   "outputs": [],
   "source": [
    "path = \"C:/Users/Ismail-Durcan/PycharmProjects/urbanSound8K/urbanSoundDataset/images/fold\"\n",
    "for folder in range(1,11):\n",
    "    imgPath = path + str(folder) + \"/\"\n",
    "    spects = os.listdir(imgPath)\n",
    "    for spect in spects:\n",
    "        spectPath = imgPath + str(spect)\n",
    "        SpectrogramGrayScale(spectPath, spect)"
   ]
  },
  {
   "cell_type": "code",
   "execution_count": null,
   "id": "63e40553",
   "metadata": {},
   "outputs": [],
   "source": []
  }
 ],
 "metadata": {
  "kernelspec": {
   "display_name": "Python 3 (ipykernel)",
   "language": "python",
   "name": "python3"
  },
  "language_info": {
   "codemirror_mode": {
    "name": "ipython",
    "version": 3
   },
   "file_extension": ".py",
   "mimetype": "text/x-python",
   "name": "python",
   "nbconvert_exporter": "python",
   "pygments_lexer": "ipython3",
   "version": "3.9.13"
  }
 },
 "nbformat": 4,
 "nbformat_minor": 5
}
