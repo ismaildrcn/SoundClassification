{
  "cells": [
    {
      "cell_type": "code",
      "source": [
        "from google.colab import drive\n",
        "drive.mount('/content/drive')"
      ],
      "metadata": {
        "id": "HXJgtN1kDi6J"
      },
      "id": "HXJgtN1kDi6J",
      "execution_count": null,
      "outputs": []
    },
    {
      "cell_type": "code",
      "execution_count": 12,
      "id": "ace8fae7",
      "metadata": {
        "id": "ace8fae7"
      },
      "outputs": [],
      "source": [
        "import os\n",
        "import cv2\n",
        "import pickle\n",
        "import random\n",
        "import numpy as np\n",
        "import pandas as pd\n",
        "import matplotlib.pyplot as plt\n",
        "\n",
        "\n",
        "from tensorflow.keras.models import Sequential\n",
        "from tensorflow.keras.layers import Conv2D, Flatten, Dense, MaxPool2D, Dropout, GlobalAveragePooling2D\n",
        "from tensorflow.keras.utils import to_categorical\n",
        "\n",
        "from sklearn.model_selection import train_test_split\n",
        "from sklearn.ensemble import RandomForestClassifier\n",
        "from sklearn.svm import SVC"
      ]
    },
    {
      "cell_type": "code",
      "source": [
        "df = pd.read_csv(\"/content/drive/MyDrive/AI-Project/UrbanSound8K/UrbanSound8K.csv\")\n",
        "df.head()"
      ],
      "metadata": {
        "colab": {
          "base_uri": "https://localhost:8080/",
          "height": 206
        },
        "id": "-cmpECSAEF84",
        "outputId": "88352668-93cd-420e-86a5-c224375af611"
      },
      "id": "-cmpECSAEF84",
      "execution_count": 13,
      "outputs": [
        {
          "output_type": "execute_result",
          "data": {
            "text/plain": [
              "      slice_file_name    fsID  start        end  salience  fold  classID  \\\n",
              "0    100032-3-0-0.wav  100032    0.0   0.317551         1     5        3   \n",
              "1  100263-2-0-117.wav  100263   58.5  62.500000         1     5        2   \n",
              "2  100263-2-0-121.wav  100263   60.5  64.500000         1     5        2   \n",
              "3  100263-2-0-126.wav  100263   63.0  67.000000         1     5        2   \n",
              "4  100263-2-0-137.wav  100263   68.5  72.500000         1     5        2   \n",
              "\n",
              "              class  \n",
              "0          dog_bark  \n",
              "1  children_playing  \n",
              "2  children_playing  \n",
              "3  children_playing  \n",
              "4  children_playing  "
            ],
            "text/html": [
              "\n",
              "  <div id=\"df-02c5be3c-f955-4379-a1c4-ef7aee394f54\">\n",
              "    <div class=\"colab-df-container\">\n",
              "      <div>\n",
              "<style scoped>\n",
              "    .dataframe tbody tr th:only-of-type {\n",
              "        vertical-align: middle;\n",
              "    }\n",
              "\n",
              "    .dataframe tbody tr th {\n",
              "        vertical-align: top;\n",
              "    }\n",
              "\n",
              "    .dataframe thead th {\n",
              "        text-align: right;\n",
              "    }\n",
              "</style>\n",
              "<table border=\"1\" class=\"dataframe\">\n",
              "  <thead>\n",
              "    <tr style=\"text-align: right;\">\n",
              "      <th></th>\n",
              "      <th>slice_file_name</th>\n",
              "      <th>fsID</th>\n",
              "      <th>start</th>\n",
              "      <th>end</th>\n",
              "      <th>salience</th>\n",
              "      <th>fold</th>\n",
              "      <th>classID</th>\n",
              "      <th>class</th>\n",
              "    </tr>\n",
              "  </thead>\n",
              "  <tbody>\n",
              "    <tr>\n",
              "      <th>0</th>\n",
              "      <td>100032-3-0-0.wav</td>\n",
              "      <td>100032</td>\n",
              "      <td>0.0</td>\n",
              "      <td>0.317551</td>\n",
              "      <td>1</td>\n",
              "      <td>5</td>\n",
              "      <td>3</td>\n",
              "      <td>dog_bark</td>\n",
              "    </tr>\n",
              "    <tr>\n",
              "      <th>1</th>\n",
              "      <td>100263-2-0-117.wav</td>\n",
              "      <td>100263</td>\n",
              "      <td>58.5</td>\n",
              "      <td>62.500000</td>\n",
              "      <td>1</td>\n",
              "      <td>5</td>\n",
              "      <td>2</td>\n",
              "      <td>children_playing</td>\n",
              "    </tr>\n",
              "    <tr>\n",
              "      <th>2</th>\n",
              "      <td>100263-2-0-121.wav</td>\n",
              "      <td>100263</td>\n",
              "      <td>60.5</td>\n",
              "      <td>64.500000</td>\n",
              "      <td>1</td>\n",
              "      <td>5</td>\n",
              "      <td>2</td>\n",
              "      <td>children_playing</td>\n",
              "    </tr>\n",
              "    <tr>\n",
              "      <th>3</th>\n",
              "      <td>100263-2-0-126.wav</td>\n",
              "      <td>100263</td>\n",
              "      <td>63.0</td>\n",
              "      <td>67.000000</td>\n",
              "      <td>1</td>\n",
              "      <td>5</td>\n",
              "      <td>2</td>\n",
              "      <td>children_playing</td>\n",
              "    </tr>\n",
              "    <tr>\n",
              "      <th>4</th>\n",
              "      <td>100263-2-0-137.wav</td>\n",
              "      <td>100263</td>\n",
              "      <td>68.5</td>\n",
              "      <td>72.500000</td>\n",
              "      <td>1</td>\n",
              "      <td>5</td>\n",
              "      <td>2</td>\n",
              "      <td>children_playing</td>\n",
              "    </tr>\n",
              "  </tbody>\n",
              "</table>\n",
              "</div>\n",
              "      <button class=\"colab-df-convert\" onclick=\"convertToInteractive('df-02c5be3c-f955-4379-a1c4-ef7aee394f54')\"\n",
              "              title=\"Convert this dataframe to an interactive table.\"\n",
              "              style=\"display:none;\">\n",
              "        \n",
              "  <svg xmlns=\"http://www.w3.org/2000/svg\" height=\"24px\"viewBox=\"0 0 24 24\"\n",
              "       width=\"24px\">\n",
              "    <path d=\"M0 0h24v24H0V0z\" fill=\"none\"/>\n",
              "    <path d=\"M18.56 5.44l.94 2.06.94-2.06 2.06-.94-2.06-.94-.94-2.06-.94 2.06-2.06.94zm-11 1L8.5 8.5l.94-2.06 2.06-.94-2.06-.94L8.5 2.5l-.94 2.06-2.06.94zm10 10l.94 2.06.94-2.06 2.06-.94-2.06-.94-.94-2.06-.94 2.06-2.06.94z\"/><path d=\"M17.41 7.96l-1.37-1.37c-.4-.4-.92-.59-1.43-.59-.52 0-1.04.2-1.43.59L10.3 9.45l-7.72 7.72c-.78.78-.78 2.05 0 2.83L4 21.41c.39.39.9.59 1.41.59.51 0 1.02-.2 1.41-.59l7.78-7.78 2.81-2.81c.8-.78.8-2.07 0-2.86zM5.41 20L4 18.59l7.72-7.72 1.47 1.35L5.41 20z\"/>\n",
              "  </svg>\n",
              "      </button>\n",
              "      \n",
              "  <style>\n",
              "    .colab-df-container {\n",
              "      display:flex;\n",
              "      flex-wrap:wrap;\n",
              "      gap: 12px;\n",
              "    }\n",
              "\n",
              "    .colab-df-convert {\n",
              "      background-color: #E8F0FE;\n",
              "      border: none;\n",
              "      border-radius: 50%;\n",
              "      cursor: pointer;\n",
              "      display: none;\n",
              "      fill: #1967D2;\n",
              "      height: 32px;\n",
              "      padding: 0 0 0 0;\n",
              "      width: 32px;\n",
              "    }\n",
              "\n",
              "    .colab-df-convert:hover {\n",
              "      background-color: #E2EBFA;\n",
              "      box-shadow: 0px 1px 2px rgba(60, 64, 67, 0.3), 0px 1px 3px 1px rgba(60, 64, 67, 0.15);\n",
              "      fill: #174EA6;\n",
              "    }\n",
              "\n",
              "    [theme=dark] .colab-df-convert {\n",
              "      background-color: #3B4455;\n",
              "      fill: #D2E3FC;\n",
              "    }\n",
              "\n",
              "    [theme=dark] .colab-df-convert:hover {\n",
              "      background-color: #434B5C;\n",
              "      box-shadow: 0px 1px 3px 1px rgba(0, 0, 0, 0.15);\n",
              "      filter: drop-shadow(0px 1px 2px rgba(0, 0, 0, 0.3));\n",
              "      fill: #FFFFFF;\n",
              "    }\n",
              "  </style>\n",
              "\n",
              "      <script>\n",
              "        const buttonEl =\n",
              "          document.querySelector('#df-02c5be3c-f955-4379-a1c4-ef7aee394f54 button.colab-df-convert');\n",
              "        buttonEl.style.display =\n",
              "          google.colab.kernel.accessAllowed ? 'block' : 'none';\n",
              "\n",
              "        async function convertToInteractive(key) {\n",
              "          const element = document.querySelector('#df-02c5be3c-f955-4379-a1c4-ef7aee394f54');\n",
              "          const dataTable =\n",
              "            await google.colab.kernel.invokeFunction('convertToInteractive',\n",
              "                                                     [key], {});\n",
              "          if (!dataTable) return;\n",
              "\n",
              "          const docLinkHtml = 'Like what you see? Visit the ' +\n",
              "            '<a target=\"_blank\" href=https://colab.research.google.com/notebooks/data_table.ipynb>data table notebook</a>'\n",
              "            + ' to learn more about interactive tables.';\n",
              "          element.innerHTML = '';\n",
              "          dataTable['output_type'] = 'display_data';\n",
              "          await google.colab.output.renderOutput(dataTable, element);\n",
              "          const docLink = document.createElement('div');\n",
              "          docLink.innerHTML = docLinkHtml;\n",
              "          element.appendChild(docLink);\n",
              "        }\n",
              "      </script>\n",
              "    </div>\n",
              "  </div>\n",
              "  "
            ]
          },
          "metadata": {},
          "execution_count": 13
        }
      ]
    },
    {
      "cell_type": "code",
      "source": [
        "!unzip /content/drive/MyDrive/AI-Project/UrbanSound8K/images.zip"
      ],
      "metadata": {
        "id": "1TREGHiaIWup"
      },
      "id": "1TREGHiaIWup",
      "execution_count": null,
      "outputs": []
    },
    {
      "cell_type": "code",
      "source": [
        "images = []\n",
        "numberOfErrors = 0\n",
        "numberOfProcessed = 0\n",
        "\n",
        "for index, row in df.iterrows():\n",
        "    fileName = row[\"slice_file_name\"]\n",
        "    fold = row[\"fold\"]\n",
        "    classID = row[\"classID\"]\n",
        "    pathToImage = \"/content/images/fold{}/{}.png\".format(fold, fileName.split(\".\")[0])\n",
        "    try:\n",
        "        img = cv2.imread(pathToImage, 0)\n",
        "        img = cv2.resize(img, (128, 128))\n",
        "        img = img/255\n",
        "        images.append([img, int(classID)])\n",
        "        numberOfProcessed += 1\n",
        "    except:\n",
        "        numberOfErrors += 1\n",
        "print(\"Processed: {}\\nErrors: {}\".format(numberOfProcessed, numberOfErrors))"
      ],
      "metadata": {
        "id": "jz4fyjPEEF57"
      },
      "id": "jz4fyjPEEF57",
      "execution_count": null,
      "outputs": []
    },
    {
      "cell_type": "code",
      "source": [
        "print(len(images))"
      ],
      "metadata": {
        "id": "TlBLcAjREFtL"
      },
      "id": "TlBLcAjREFtL",
      "execution_count": null,
      "outputs": []
    },
    {
      "cell_type": "code",
      "source": [
        "for _ in range(10):\n",
        "    random.shuffle(images)"
      ],
      "metadata": {
        "id": "qCDYXJwLEFqO"
      },
      "id": "qCDYXJwLEFqO",
      "execution_count": 17,
      "outputs": []
    },
    {
      "cell_type": "code",
      "source": [
        "X = []\n",
        "Y = []\n",
        "\n",
        "for image, idx in images:\n",
        "    X.append(image)\n",
        "    Y.append(idx)"
      ],
      "metadata": {
        "id": "0_KbrQ-yEFnI"
      },
      "id": "0_KbrQ-yEFnI",
      "execution_count": 18,
      "outputs": []
    },
    {
      "cell_type": "code",
      "source": [
        "X_train, X_temporary, Y_train, Y_temporary = train_test_split(X, Y, test_size = 0.2, random_state = 1) "
      ],
      "metadata": {
        "id": "5y9liJstEFeT"
      },
      "id": "5y9liJstEFeT",
      "execution_count": 19,
      "outputs": []
    },
    {
      "cell_type": "code",
      "source": [
        "X_val, X_test, Y_val, Y_test = train_test_split(X_temporary, Y_temporary, test_size = 0.5, random_state = 1)"
      ],
      "metadata": {
        "id": "Lf6t0mwdEkLc"
      },
      "id": "Lf6t0mwdEkLc",
      "execution_count": 20,
      "outputs": []
    },
    {
      "cell_type": "code",
      "source": [
        "# Print the lengths of the X, X_train, X_val and X_test\n",
        "print(f\"Length of the dataset: {len(X)}\")\n",
        "print(f\"Length of the training dataset: {len(X_train)}\")\n",
        "print(f\"Length of the validation dataset: {len(X_val)}\")\n",
        "print(f\"Length of the test dataset: {len(X_test)}\")"
      ],
      "metadata": {
        "id": "eNboJUA3Ej_1"
      },
      "id": "eNboJUA3Ej_1",
      "execution_count": null,
      "outputs": []
    },
    {
      "cell_type": "code",
      "source": [
        "X_train = np.array(X_train)\n",
        "Y_train = np.array(Y_train)\n",
        "\n",
        "X_val = np.array(X_val)\n",
        "Y_val = np.array(Y_val)\n",
        "\n",
        "X_test = np.array(X_test)\n",
        "Y_test = np.array(Y_test)"
      ],
      "metadata": {
        "id": "my5V6RTpEnOp"
      },
      "id": "my5V6RTpEnOp",
      "execution_count": 22,
      "outputs": []
    },
    {
      "cell_type": "code",
      "source": [
        "X_train = X_train.reshape(-1, 128, 128, 1) \n",
        "X_val = X_val.reshape(-1, 128, 128, 1) \n",
        "X_test = X_test.reshape(-1, 128, 128, 1) "
      ],
      "metadata": {
        "id": "LQ-XetVEEmY5"
      },
      "id": "LQ-XetVEEmY5",
      "execution_count": 23,
      "outputs": []
    },
    {
      "cell_type": "code",
      "source": [
        "if \"pickles\" not in os.listdir():\n",
        "    os.mkdir(\"pickles\")\n",
        "\n",
        "with open(\"pickles/X_train.pickle\", \"wb\") as f:\n",
        "  pickle.dump(X_train, f)  \n",
        "with open(\"pickles/y_train.pickle\", \"wb\") as f:\n",
        "  pickle.dump(Y_train, f)\n",
        "\n",
        "with open(\"pickles/X_val.pickle\", \"wb\") as f:\n",
        "  pickle.dump(X_val, f)  \n",
        "with open(\"pickles/y_val.pickle\", \"wb\") as f:\n",
        "  pickle.dump(Y_val, f)\n",
        "\n",
        "with open(\"pickles/X_test.pickle\", \"wb\") as f:\n",
        "  pickle.dump(X_test, f)  \n",
        "with open(\"pickles/y_test.pickle\", \"wb\") as f:\n",
        "  pickle.dump(Y_test, f)"
      ],
      "metadata": {
        "id": "EzeOMsHHEmVz"
      },
      "id": "EzeOMsHHEmVz",
      "execution_count": 24,
      "outputs": []
    },
    {
      "cell_type": "code",
      "execution_count": null,
      "id": "4ade296a",
      "metadata": {
        "id": "4ade296a"
      },
      "outputs": [],
      "source": [
        "print(X_train.shape)\n",
        "print(X_val.shape)\n",
        "print(X_test.shape)"
      ]
    },
    {
      "cell_type": "code",
      "execution_count": 26,
      "id": "7776c134",
      "metadata": {
        "id": "7776c134"
      },
      "outputs": [],
      "source": [
        "input_dim = (128, 128, 1)"
      ]
    },
    {
      "cell_type": "markdown",
      "id": "9998e66c",
      "metadata": {
        "id": "9998e66c"
      },
      "source": [
        "# Model Create"
      ]
    },
    {
      "cell_type": "code",
      "execution_count": 58,
      "id": "6d011969",
      "metadata": {
        "id": "6d011969"
      },
      "outputs": [],
      "source": [
        "model = Sequential()"
      ]
    },
    {
      "cell_type": "code",
      "execution_count": 59,
      "id": "72dfaef5",
      "metadata": {
        "id": "72dfaef5"
      },
      "outputs": [],
      "source": [
        "model.add(Conv2D(32,\n",
        "                kernel_size = (3, 3),\n",
        "                padding = \"same\",\n",
        "                activation = \"tanh\",\n",
        "                input_shape = input_dim))\n",
        "model.add(MaxPool2D(pool_size=(2, 2)))\n",
        "model.add(Dropout(0.5))\n",
        "\n",
        "model.add(Conv2D(64,\n",
        "                kernel_size = (3, 3),\n",
        "                padding = \"same\", \n",
        "                activation = \"relu\"))\n",
        "model.add(MaxPool2D(pool_size=(2, 2)))\n",
        "model.add(Dropout(0.5))\n",
        "\n",
        "model.add(Conv2D(64,\n",
        "                kernel_size = (3, 3),\n",
        "                padding = \"same\",\n",
        "                activation = \"relu\"))\n",
        "model.add(MaxPool2D(pool_size=(2, 2)))\n",
        "model.add(Dropout(0.5))\n",
        "\n",
        "\n",
        "model.add(Flatten())\n",
        "\n",
        "model.add(Dense(64, activation = \"relu\"))\n",
        "model.add(Dropout(0.5))\n",
        "model.add(Dense(128, activation = \"relu\"))\n",
        "model.add(Dropout(0.5))\n",
        "\n",
        "model.add(Dense(10, activation = \"softmax\"))"
      ]
    },
    {
      "cell_type": "markdown",
      "id": "e0aaba07",
      "metadata": {
        "id": "e0aaba07"
      },
      "source": [
        "# Model Training"
      ]
    },
    {
      "cell_type": "code",
      "execution_count": 60,
      "id": "83b197d2",
      "metadata": {
        "id": "83b197d2"
      },
      "outputs": [],
      "source": [
        "model.compile(optimizer = 'adam', loss = 'sparse_categorical_crossentropy', metrics = ['accuracy'])"
      ]
    },
    {
      "cell_type": "code",
      "execution_count": null,
      "id": "b14f38a8",
      "metadata": {
        "id": "b14f38a8"
      },
      "outputs": [],
      "source": [
        "model.summary()"
      ]
    },
    {
      "cell_type": "code",
      "execution_count": null,
      "id": "ac4e40a7",
      "metadata": {
        "id": "ac4e40a7"
      },
      "outputs": [],
      "source": [
        "results = model.fit(X_train, Y_train, epochs = 128, batch_size = 128, validation_data = (X_val, Y_val))"
      ]
    },
    {
      "cell_type": "markdown",
      "id": "dcf5d9cb",
      "metadata": {
        "id": "dcf5d9cb"
      },
      "source": [
        "# Model Performance"
      ]
    },
    {
      "cell_type": "code",
      "execution_count": 65,
      "id": "29f27bf9",
      "metadata": {
        "colab": {
          "base_uri": "https://localhost:8080/",
          "height": 295
        },
        "id": "29f27bf9",
        "outputId": "b365de7f-df0a-4624-f8cc-8ad67b94b0e7"
      },
      "outputs": [
        {
          "output_type": "display_data",
          "data": {
            "text/plain": [
              "<Figure size 432x288 with 1 Axes>"
            ],
            "image/png": "[encoded data removed]"
          },
          "metadata": {
            "needs_background": "light"
          }
        }
      ],
      "source": [
        "# Plot the the training loss\n",
        "plt.plot(results.history[\"loss\"],label=\"Train\")\n",
        "\n",
        "# Plot the the validation loss\n",
        "plt.plot(results.history[\"val_loss\"], label=\"Validation\")\n",
        "\n",
        "# Name the x and y axises\n",
        "plt.xlabel(\"Epoch\")\n",
        "plt.ylabel(\"Loss\")\n",
        "\n",
        "plt.title(\"Train Loss Plot\")\n",
        "\n",
        "plt.grid()\n",
        "\n",
        "# Put legend table\n",
        "plt.legend()\n",
        "\n",
        "# Show the plot\n",
        "plt.show()"
      ]
    },
    {
      "cell_type": "code",
      "execution_count": 66,
      "id": "38c78999",
      "metadata": {
        "colab": {
          "base_uri": "https://localhost:8080/",
          "height": 295
        },
        "id": "38c78999",
        "outputId": "d47e003d-94ca-41f3-fb79-5716556da04b"
      },
      "outputs": [
        {
          "output_type": "display_data",
          "data": {
            "text/plain": [
              "<Figure size 432x288 with 1 Axes>"
            ],
            "image/png": "[encoded data removed]"
          },
          "metadata": {
            "needs_background": "light"
          }
        }
      ],
      "source": [
        "# Plot the the training accuracy\n",
        "plt.plot(results.history[\"accuracy\"],label=\"Train\")\n",
        "\n",
        "# Plot the the validation accuracy\n",
        "plt.plot(results.history[\"val_accuracy\"], label=\"Validation\")\n",
        "\n",
        "# Name the x and y axises\n",
        "plt.xlabel(\"Epoch\")\n",
        "plt.ylabel(\"Loss\")\n",
        "\n",
        "plt.title(\"Train Accuracy Plot\")\n",
        "plt.grid()\n",
        "# Put legend table\n",
        "plt.legend()\n",
        "\n",
        "# Show the plot\n",
        "plt.show()"
      ]
    },
    {
      "cell_type": "code",
      "execution_count": 67,
      "id": "b892b3e5",
      "metadata": {
        "colab": {
          "base_uri": "https://localhost:8080/"
        },
        "id": "b892b3e5",
        "outputId": "05c1b8bd-af52-481b-b90d-58c9d9e4fc96"
      },
      "outputs": [
        {
          "output_type": "stream",
          "name": "stdout",
          "text": [
            "28/28 [==============================] - 1s 14ms/step\n",
            "28/28 [==============================] - 0s 10ms/step - loss: 0.3977 - accuracy: 0.8993\n",
            "Loss: 0.3976658880710602 Acc: %89.93135094642639\n"
          ]
        }
      ],
      "source": [
        "predictions = model.predict(X_test)\n",
        "score = model.evaluate(X_test, Y_test)\n",
        "\n",
        "# Print the result\n",
        "print(f\"Loss: {score[0]} Acc: %{score[1]*100}\")"
      ]
    }
  ],
  "metadata": {
    "kernelspec": {
      "display_name": "Python 3 (ipykernel)",
      "language": "python",
      "name": "python3"
    },
    "language_info": {
      "codemirror_mode": {
        "name": "ipython",
        "version": 3
      },
      "file_extension": ".py",
      "mimetype": "text/x-python",
      "name": "python",
      "nbconvert_exporter": "python",
      "pygments_lexer": "ipython3",
      "version": "3.9.15"
    },
    "colab": {
      "provenance": []
    },
    "accelerator": "GPU",
    "gpuClass": "standard"
  },
  "nbformat": 4,
  "nbformat_minor": 5
}